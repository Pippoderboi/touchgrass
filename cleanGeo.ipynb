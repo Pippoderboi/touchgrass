{
 "cells": [
  {
   "cell_type": "markdown",
   "id": "c5e9b701-1163-4836-ac25-25a0c4c80a24",
   "metadata": {},
   "source": [
    "<H1>Load and Clean GeoJSON Data</H1>\n",
    "<p>Your GeoJSON files contain geographical features like parks, restaurants, and stores with properties such as names, categories, and coordinates (latitude/longitude). The main tasks here are loading, inspecting, and preparing the data for later use.\n",
    "\n",
    "🔹 2.1 Load GeoJSON files\n",
    "\n",
    "GeoJSON is a format for encoding geographic data structures, including points (like a restaurant), lines (like walking trails), and polygons (like a park boundary).</p>\n",
    "\n",
    "<p>You can read GeoJSON files using:\n",
    "\n",
    "    Pandas — useful if you just want the properties (but not geometry).\n",
    "\n",
    "    GeoPandas — best for full geographic structure, including geometry handling.\n",
    "</p>\n",
    "\n",
    "\n",
    "<p> 🔹 2.2 Inspect the structure\n",
    "    \n",
    "Typical GeoJSON features include:\n",
    "{\n",
    "  \"type\": \"Feature\",\n",
    "  \"properties\": {\n",
    "    \"name\": \"Central Park\",\n",
    "    \"category\": \"park\"\n",
    "  },\n",
    "  \"geometry\": {\n",
    "    \"type\": \"Point\",\n",
    "    \"coordinates\": [-73.9654, 40.7829]\n",
    "  }\n",
    "}\n",
    "</p>\n",
    "\n",
    "<p>You’ll want to:\n",
    "\n",
    "    Extract relevant columns (name, category, etc.).\n",
    "\n",
    "    Ensure coordinates are in a usable format.\n",
    "\n",
    "🔹 2.3 Clean the data\n",
    "\n",
    "    Remove missing or irrelevant entries.\n",
    "\n",
    "    Normalize text data (e.g., lowercasing category names).\n",
    "\n",
    "    Check for duplicates.\n",
    "\n",
    "    Optionally filter by city boundaries or other criteria.\n",
    "\n",
    "🔹 2.4 Structure for analysis\n",
    "\n",
    "Prepare the data so that each row corresponds to one location, with clearly separated fields like:\n",
    "\n",
    "    name\n",
    "\n",
    "    type or category\n",
    "\n",
    "    latitude / longitude\n",
    "\n",
    "    Optional tags or descriptions\n",
    "</p>"
   ]
  },
  {
   "cell_type": "code",
   "execution_count": 2,
   "id": "30378bf2-3ade-40b3-b45f-4b4e325446b8",
   "metadata": {},
   "outputs": [],
   "source": [
    "import geopandas as gpd"
   ]
  },
  {
   "cell_type": "code",
   "execution_count": 3,
   "id": "cce4e8d0-c788-4608-bdc4-3b8181f9b827",
   "metadata": {},
   "outputs": [],
   "source": [
    "gdf = gpd.read_file(\"raw_data_geojson/gruenflaechen.geojson\")"
   ]
  },
  {
   "cell_type": "code",
   "execution_count": 4,
   "id": "0fae3b8a-153e-4b65-b074-614190671897",
   "metadata": {},
   "outputs": [
    {
     "data": {
      "text/html": [
       "<div>\n",
       "<style scoped>\n",
       "    .dataframe tbody tr th:only-of-type {\n",
       "        vertical-align: middle;\n",
       "    }\n",
       "\n",
       "    .dataframe tbody tr th {\n",
       "        vertical-align: top;\n",
       "    }\n",
       "\n",
       "    .dataframe thead th {\n",
       "        text-align: right;\n",
       "    }\n",
       "</style>\n",
       "<table border=\"1\" class=\"dataframe\">\n",
       "  <thead>\n",
       "    <tr style=\"text-align: right;\">\n",
       "      <th></th>\n",
       "      <th>obj_nr</th>\n",
       "      <th>obj_art</th>\n",
       "      <th>geometry</th>\n",
       "    </tr>\n",
       "  </thead>\n",
       "  <tbody>\n",
       "    <tr>\n",
       "      <th>0</th>\n",
       "      <td>45408</td>\n",
       "      <td>04</td>\n",
       "      <td>MULTIPOLYGON (((7.58272 51.93164, 7.58271 51.9...</td>\n",
       "    </tr>\n",
       "    <tr>\n",
       "      <th>1</th>\n",
       "      <td>56234</td>\n",
       "      <td>05</td>\n",
       "      <td>POLYGON ((7.61478 52.00261, 7.61485 52.00252, ...</td>\n",
       "    </tr>\n",
       "    <tr>\n",
       "      <th>2</th>\n",
       "      <td>56232</td>\n",
       "      <td>05</td>\n",
       "      <td>POLYGON ((7.61558 51.99764, 7.61565 51.99762, ...</td>\n",
       "    </tr>\n",
       "    <tr>\n",
       "      <th>3</th>\n",
       "      <td>56206</td>\n",
       "      <td>05</td>\n",
       "      <td>MULTIPOLYGON (((7.60867 51.99611, 7.60867 51.9...</td>\n",
       "    </tr>\n",
       "    <tr>\n",
       "      <th>4</th>\n",
       "      <td>18707</td>\n",
       "      <td>01</td>\n",
       "      <td>POLYGON ((7.72766 51.91591, 7.72781 51.91587, ...</td>\n",
       "    </tr>\n",
       "  </tbody>\n",
       "</table>\n",
       "</div>"
      ],
      "text/plain": [
       "  obj_nr obj_art                                           geometry\n",
       "0  45408      04  MULTIPOLYGON (((7.58272 51.93164, 7.58271 51.9...\n",
       "1  56234      05  POLYGON ((7.61478 52.00261, 7.61485 52.00252, ...\n",
       "2  56232      05  POLYGON ((7.61558 51.99764, 7.61565 51.99762, ...\n",
       "3  56206      05  MULTIPOLYGON (((7.60867 51.99611, 7.60867 51.9...\n",
       "4  18707      01  POLYGON ((7.72766 51.91591, 7.72781 51.91587, ..."
      ]
     },
     "execution_count": 4,
     "metadata": {},
     "output_type": "execute_result"
    }
   ],
   "source": [
    "gdf.head()"
   ]
  },
  {
   "cell_type": "code",
   "execution_count": 5,
   "id": "2282b4d1-5298-4a96-a176-3e5155609996",
   "metadata": {},
   "outputs": [],
   "source": [
    "gdftheater = gpd.read_file(\"raw_data_geojson/theater.geojson\")"
   ]
  },
  {
   "cell_type": "code",
   "execution_count": 6,
   "id": "c66580f6-8a33-404d-a569-47888621d77f",
   "metadata": {},
   "outputs": [
    {
     "data": {
      "text/html": [
       "<div>\n",
       "<style scoped>\n",
       "    .dataframe tbody tr th:only-of-type {\n",
       "        vertical-align: middle;\n",
       "    }\n",
       "\n",
       "    .dataframe tbody tr th {\n",
       "        vertical-align: top;\n",
       "    }\n",
       "\n",
       "    .dataframe thead th {\n",
       "        text-align: right;\n",
       "    }\n",
       "</style>\n",
       "<table border=\"1\" class=\"dataframe\">\n",
       "  <thead>\n",
       "    <tr style=\"text-align: right;\">\n",
       "      <th></th>\n",
       "      <th>NAME</th>\n",
       "      <th>STR_NAME</th>\n",
       "      <th>HSNR</th>\n",
       "      <th>HSNR_ZUS</th>\n",
       "      <th>PLZ</th>\n",
       "      <th>ORT</th>\n",
       "      <th>RECHTSWERT</th>\n",
       "      <th>HOCHWERT</th>\n",
       "      <th>HOMEPAGE</th>\n",
       "      <th>geometry</th>\n",
       "    </tr>\n",
       "  </thead>\n",
       "  <tbody>\n",
       "    <tr>\n",
       "      <th>0</th>\n",
       "      <td>Theater in der Meerwiese</td>\n",
       "      <td>An der Meerwiese</td>\n",
       "      <td>25.0</td>\n",
       "      <td></td>\n",
       "      <td>48157.0</td>\n",
       "      <td>Münster</td>\n",
       "      <td>407379.0</td>\n",
       "      <td>5760608.0</td>\n",
       "      <td>https://www.stadt-muenster.de/meerwiese/</td>\n",
       "      <td>POINT (7.65115 51.98841)</td>\n",
       "    </tr>\n",
       "    <tr>\n",
       "      <th>1</th>\n",
       "      <td>Amateurbühne Münster-Ost</td>\n",
       "      <td>Andreas-Hofer-Straße</td>\n",
       "      <td>13.0</td>\n",
       "      <td></td>\n",
       "      <td>48145.0</td>\n",
       "      <td>Münster</td>\n",
       "      <td>407399.0</td>\n",
       "      <td>5756985.0</td>\n",
       "      <td>https://amateurbuehne.de/</td>\n",
       "      <td>POINT (7.65242 51.95585)</td>\n",
       "    </tr>\n",
       "    <tr>\n",
       "      <th>2</th>\n",
       "      <td>GOP</td>\n",
       "      <td>Bahnhofstraße</td>\n",
       "      <td>20.0</td>\n",
       "      <td></td>\n",
       "      <td>48143.0</td>\n",
       "      <td>Münster</td>\n",
       "      <td>406140.0</td>\n",
       "      <td>5757178.0</td>\n",
       "      <td>https://www.variete.de/Muenster</td>\n",
       "      <td>POINT (7.63405 51.95737)</td>\n",
       "    </tr>\n",
       "    <tr>\n",
       "      <th>3</th>\n",
       "      <td>Theaterlabor im Kulturbahnhof</td>\n",
       "      <td>Bergiusstraße</td>\n",
       "      <td>15.0</td>\n",
       "      <td></td>\n",
       "      <td>48165.0</td>\n",
       "      <td>Münster</td>\n",
       "      <td>407404.0</td>\n",
       "      <td>5751284.0</td>\n",
       "      <td>https://www.uni-muenster.de/Kustodie/kulturatl...</td>\n",
       "      <td>POINT (7.65403 51.9046)</td>\n",
       "    </tr>\n",
       "    <tr>\n",
       "      <th>4</th>\n",
       "      <td>TPZ Münster</td>\n",
       "      <td>Achtermannstraße</td>\n",
       "      <td>24.0</td>\n",
       "      <td></td>\n",
       "      <td>48143.0</td>\n",
       "      <td>Münster</td>\n",
       "      <td>406021.0</td>\n",
       "      <td>5757093.0</td>\n",
       "      <td>https://www.tpz-muenster.de/</td>\n",
       "      <td>POINT (7.63234 51.95659)</td>\n",
       "    </tr>\n",
       "    <tr>\n",
       "      <th>5</th>\n",
       "      <td>Wolfgang Borchert Theater</td>\n",
       "      <td>Am Mittelhafen</td>\n",
       "      <td>10.0</td>\n",
       "      <td></td>\n",
       "      <td>48155.0</td>\n",
       "      <td>Münster</td>\n",
       "      <td>406543.0</td>\n",
       "      <td>5756479.0</td>\n",
       "      <td>https://www.wolfgang-borchert-theater.de/</td>\n",
       "      <td>POINT (7.64011 51.95115)</td>\n",
       "    </tr>\n",
       "    <tr>\n",
       "      <th>6</th>\n",
       "      <td>Kreativ-Haus, Theaterbühne</td>\n",
       "      <td>Diepenbrockstraße</td>\n",
       "      <td>28.0</td>\n",
       "      <td></td>\n",
       "      <td>48145.0</td>\n",
       "      <td>Münster</td>\n",
       "      <td>406666.0</td>\n",
       "      <td>5757329.0</td>\n",
       "      <td>https://kreativ-haus.de/</td>\n",
       "      <td>POINT (7.64166 51.95882)</td>\n",
       "    </tr>\n",
       "    <tr>\n",
       "      <th>7</th>\n",
       "      <td>Studiobühnen Münster</td>\n",
       "      <td>Domplatz</td>\n",
       "      <td>23.0</td>\n",
       "      <td>a</td>\n",
       "      <td>48143.0</td>\n",
       "      <td>Münster</td>\n",
       "      <td>405453.0</td>\n",
       "      <td>5757760.0</td>\n",
       "      <td>https://www.uni-muenster.de/Studiobuehne/</td>\n",
       "      <td>POINT (7.6239 51.96248)</td>\n",
       "    </tr>\n",
       "    <tr>\n",
       "      <th>8</th>\n",
       "      <td>Theater im Pumpenhaus</td>\n",
       "      <td>Gartenstraße</td>\n",
       "      <td>123.0</td>\n",
       "      <td></td>\n",
       "      <td>48147.0</td>\n",
       "      <td>Münster</td>\n",
       "      <td>406318.0</td>\n",
       "      <td>5758948.0</td>\n",
       "      <td>https://www.pumpenhaus.de/</td>\n",
       "      <td>POINT (7.63616 51.97331)</td>\n",
       "    </tr>\n",
       "    <tr>\n",
       "      <th>9</th>\n",
       "      <td>STORNO</td>\n",
       "      <td>Finkenstraße</td>\n",
       "      <td>7.0</td>\n",
       "      <td></td>\n",
       "      <td>48147.0</td>\n",
       "      <td>Münster</td>\n",
       "      <td>405166.0</td>\n",
       "      <td>5758484.0</td>\n",
       "      <td>https://www.storno.org/start/</td>\n",
       "      <td>POINT (7.61952 51.96894)</td>\n",
       "    </tr>\n",
       "    <tr>\n",
       "      <th>10</th>\n",
       "      <td>Theater Münster</td>\n",
       "      <td>Neubrückenstraße</td>\n",
       "      <td>63.0</td>\n",
       "      <td></td>\n",
       "      <td>48143.0</td>\n",
       "      <td>Münster</td>\n",
       "      <td>405807.0</td>\n",
       "      <td>5758022.0</td>\n",
       "      <td>https://www.theater-muenster.com/</td>\n",
       "      <td>POINT (7.62898 51.9649)</td>\n",
       "    </tr>\n",
       "    <tr>\n",
       "      <th>11</th>\n",
       "      <td>Niederdeutsche Bühne</td>\n",
       "      <td>Neubrückenstraße</td>\n",
       "      <td>63.0</td>\n",
       "      <td></td>\n",
       "      <td>48143.0</td>\n",
       "      <td>Münster</td>\n",
       "      <td>405832.0</td>\n",
       "      <td>5758007.0</td>\n",
       "      <td>http://www.niederdeutsche-buehne-muenster.de</td>\n",
       "      <td>POINT (7.62934 51.96477)</td>\n",
       "    </tr>\n",
       "    <tr>\n",
       "      <th>12</th>\n",
       "      <td>Boulevard Münster</td>\n",
       "      <td>Königsstraße</td>\n",
       "      <td>12.0</td>\n",
       "      <td></td>\n",
       "      <td>48143.0</td>\n",
       "      <td>Münster</td>\n",
       "      <td>405612.0</td>\n",
       "      <td>5757413.0</td>\n",
       "      <td>https://www.boulevard-muenster.de/</td>\n",
       "      <td>POINT (7.62631 51.95939)</td>\n",
       "    </tr>\n",
       "    <tr>\n",
       "      <th>13</th>\n",
       "      <td>Charivari Puppentheater</td>\n",
       "      <td>Körnerstraße</td>\n",
       "      <td>3.0</td>\n",
       "      <td></td>\n",
       "      <td>48151.0</td>\n",
       "      <td>Münster</td>\n",
       "      <td>404931.0</td>\n",
       "      <td>5756907.0</td>\n",
       "      <td>http://charivari-theater.de/</td>\n",
       "      <td>POINT (7.61654 51.95473)</td>\n",
       "    </tr>\n",
       "    <tr>\n",
       "      <th>14</th>\n",
       "      <td>Theater Szenenwechsel</td>\n",
       "      <td>Scheibenstraße</td>\n",
       "      <td>84.0</td>\n",
       "      <td></td>\n",
       "      <td>48153.0</td>\n",
       "      <td>Münster</td>\n",
       "      <td>405531.0</td>\n",
       "      <td>5755409.0</td>\n",
       "      <td>https://www.theater-szenenwechsel.de/</td>\n",
       "      <td>POINT (7.62568 51.94137)</td>\n",
       "    </tr>\n",
       "    <tr>\n",
       "      <th>15</th>\n",
       "      <td>Der kleine Bühnenboden</td>\n",
       "      <td>Schillerstraße</td>\n",
       "      <td>48.0</td>\n",
       "      <td></td>\n",
       "      <td>48155.0</td>\n",
       "      <td>Münster</td>\n",
       "      <td>406623.0</td>\n",
       "      <td>5757011.0</td>\n",
       "      <td>http://www.derkleinebuehnenboden.de/</td>\n",
       "      <td>POINT (7.64112 51.95595)</td>\n",
       "    </tr>\n",
       "  </tbody>\n",
       "</table>\n",
       "</div>"
      ],
      "text/plain": [
       "                             NAME              STR_NAME   HSNR HSNR_ZUS  \\\n",
       "0        Theater in der Meerwiese      An der Meerwiese   25.0            \n",
       "1        Amateurbühne Münster-Ost  Andreas-Hofer-Straße   13.0            \n",
       "2                             GOP         Bahnhofstraße   20.0            \n",
       "3   Theaterlabor im Kulturbahnhof         Bergiusstraße   15.0            \n",
       "4                     TPZ Münster      Achtermannstraße   24.0            \n",
       "5       Wolfgang Borchert Theater        Am Mittelhafen   10.0            \n",
       "6      Kreativ-Haus, Theaterbühne     Diepenbrockstraße   28.0            \n",
       "7            Studiobühnen Münster              Domplatz   23.0        a   \n",
       "8           Theater im Pumpenhaus          Gartenstraße  123.0            \n",
       "9                          STORNO          Finkenstraße    7.0            \n",
       "10                Theater Münster      Neubrückenstraße   63.0            \n",
       "11           Niederdeutsche Bühne      Neubrückenstraße   63.0            \n",
       "12              Boulevard Münster          Königsstraße   12.0            \n",
       "13        Charivari Puppentheater          Körnerstraße    3.0            \n",
       "14          Theater Szenenwechsel        Scheibenstraße   84.0            \n",
       "15         Der kleine Bühnenboden        Schillerstraße   48.0            \n",
       "\n",
       "        PLZ      ORT  RECHTSWERT   HOCHWERT  \\\n",
       "0   48157.0  Münster    407379.0  5760608.0   \n",
       "1   48145.0  Münster    407399.0  5756985.0   \n",
       "2   48143.0  Münster    406140.0  5757178.0   \n",
       "3   48165.0  Münster    407404.0  5751284.0   \n",
       "4   48143.0  Münster    406021.0  5757093.0   \n",
       "5   48155.0  Münster    406543.0  5756479.0   \n",
       "6   48145.0  Münster    406666.0  5757329.0   \n",
       "7   48143.0  Münster    405453.0  5757760.0   \n",
       "8   48147.0  Münster    406318.0  5758948.0   \n",
       "9   48147.0  Münster    405166.0  5758484.0   \n",
       "10  48143.0  Münster    405807.0  5758022.0   \n",
       "11  48143.0  Münster    405832.0  5758007.0   \n",
       "12  48143.0  Münster    405612.0  5757413.0   \n",
       "13  48151.0  Münster    404931.0  5756907.0   \n",
       "14  48153.0  Münster    405531.0  5755409.0   \n",
       "15  48155.0  Münster    406623.0  5757011.0   \n",
       "\n",
       "                                             HOMEPAGE  \\\n",
       "0            https://www.stadt-muenster.de/meerwiese/   \n",
       "1                           https://amateurbuehne.de/   \n",
       "2                     https://www.variete.de/Muenster   \n",
       "3   https://www.uni-muenster.de/Kustodie/kulturatl...   \n",
       "4                        https://www.tpz-muenster.de/   \n",
       "5           https://www.wolfgang-borchert-theater.de/   \n",
       "6                            https://kreativ-haus.de/   \n",
       "7           https://www.uni-muenster.de/Studiobuehne/   \n",
       "8                          https://www.pumpenhaus.de/   \n",
       "9                       https://www.storno.org/start/   \n",
       "10                  https://www.theater-muenster.com/   \n",
       "11       http://www.niederdeutsche-buehne-muenster.de   \n",
       "12                 https://www.boulevard-muenster.de/   \n",
       "13                       http://charivari-theater.de/   \n",
       "14              https://www.theater-szenenwechsel.de/   \n",
       "15               http://www.derkleinebuehnenboden.de/   \n",
       "\n",
       "                    geometry  \n",
       "0   POINT (7.65115 51.98841)  \n",
       "1   POINT (7.65242 51.95585)  \n",
       "2   POINT (7.63405 51.95737)  \n",
       "3    POINT (7.65403 51.9046)  \n",
       "4   POINT (7.63234 51.95659)  \n",
       "5   POINT (7.64011 51.95115)  \n",
       "6   POINT (7.64166 51.95882)  \n",
       "7    POINT (7.6239 51.96248)  \n",
       "8   POINT (7.63616 51.97331)  \n",
       "9   POINT (7.61952 51.96894)  \n",
       "10   POINT (7.62898 51.9649)  \n",
       "11  POINT (7.62934 51.96477)  \n",
       "12  POINT (7.62631 51.95939)  \n",
       "13  POINT (7.61654 51.95473)  \n",
       "14  POINT (7.62568 51.94137)  \n",
       "15  POINT (7.64112 51.95595)  "
      ]
     },
     "execution_count": 6,
     "metadata": {},
     "output_type": "execute_result"
    }
   ],
   "source": [
    "gdftheater"
   ]
  },
  {
   "cell_type": "code",
   "execution_count": 7,
   "id": "9fe51d8f-6b37-488b-9061-d75aae561778",
   "metadata": {},
   "outputs": [
    {
     "data": {
      "text/plain": [
       "0          Theater in der Meerwiese\n",
       "1          Amateurbühne Münster-Ost\n",
       "2                               GOP\n",
       "3     Theaterlabor im Kulturbahnhof\n",
       "4                       TPZ Münster\n",
       "5         Wolfgang Borchert Theater\n",
       "6        Kreativ-Haus, Theaterbühne\n",
       "7              Studiobühnen Münster\n",
       "8             Theater im Pumpenhaus\n",
       "9                            STORNO\n",
       "10                  Theater Münster\n",
       "11             Niederdeutsche Bühne\n",
       "12                Boulevard Münster\n",
       "13          Charivari Puppentheater\n",
       "14            Theater Szenenwechsel\n",
       "15           Der kleine Bühnenboden\n",
       "Name: NAME, dtype: object"
      ]
     },
     "execution_count": 7,
     "metadata": {},
     "output_type": "execute_result"
    }
   ],
   "source": [
    "gdftheater.NAME"
   ]
  },
  {
   "cell_type": "code",
   "execution_count": 8,
   "id": "77f58cdf-3a7f-4a01-8c69-676cbb8d243a",
   "metadata": {},
   "outputs": [
    {
     "data": {
      "text/plain": [
       "np.int64(16)"
      ]
     },
     "execution_count": 8,
     "metadata": {},
     "output_type": "execute_result"
    }
   ],
   "source": [
    "gdftheater['NAME'].count()"
   ]
  },
  {
   "cell_type": "code",
   "execution_count": 9,
   "id": "d8e78bbc-7647-4b7d-ad55-0bc69e087ca7",
   "metadata": {},
   "outputs": [
    {
     "data": {
      "text/plain": [
       "Index(['NAME', 'STR_NAME', 'HSNR', 'HSNR_ZUS', 'PLZ', 'ORT', 'RECHTSWERT',\n",
       "       'HOCHWERT', 'HOMEPAGE', 'geometry'],\n",
       "      dtype='object')"
      ]
     },
     "execution_count": 9,
     "metadata": {},
     "output_type": "execute_result"
    }
   ],
   "source": [
    "gdftheater.columns"
   ]
  },
  {
   "cell_type": "code",
   "execution_count": 10,
   "id": "c48f7b8e-fd4e-423c-9ff5-487acedf6de4",
   "metadata": {},
   "outputs": [
    {
     "data": {
      "text/plain": [
       "Index(['name', 'str_name', 'hsnr', 'hsnr_zus', 'plz', 'ort', 'rechtswert',\n",
       "       'hochwert', 'homepage', 'geometry'],\n",
       "      dtype='object')"
      ]
     },
     "execution_count": 10,
     "metadata": {},
     "output_type": "execute_result"
    }
   ],
   "source": [
    "gdftheater.columns = [x.lower() for x in gdftheater.columns]\n",
    "gdftheater.columns"
   ]
  },
  {
   "cell_type": "code",
   "execution_count": 11,
   "id": "e66df037-3c96-4ec1-9586-dc4227fbf78d",
   "metadata": {},
   "outputs": [
    {
     "data": {
      "text/plain": [
       "Index(['Name', 'Str_name', 'Hsnr', 'Hsnr_zus', 'Plz', 'Ort', 'Rechtswert',\n",
       "       'Hochwert', 'Homepage', 'Geometry'],\n",
       "      dtype='object')"
      ]
     },
     "execution_count": 11,
     "metadata": {},
     "output_type": "execute_result"
    }
   ],
   "source": [
    "gdftheater.columns = [x.capitalize() for x in gdftheater.columns]\n",
    "gdftheater.columns"
   ]
  },
  {
   "cell_type": "code",
   "execution_count": 12,
   "id": "c5aa6f58-2d51-4c77-be0d-9780bdcd777a",
   "metadata": {},
   "outputs": [
    {
     "data": {
      "text/html": [
       "<div>\n",
       "<style scoped>\n",
       "    .dataframe tbody tr th:only-of-type {\n",
       "        vertical-align: middle;\n",
       "    }\n",
       "\n",
       "    .dataframe tbody tr th {\n",
       "        vertical-align: top;\n",
       "    }\n",
       "\n",
       "    .dataframe thead th {\n",
       "        text-align: right;\n",
       "    }\n",
       "</style>\n",
       "<table border=\"1\" class=\"dataframe\">\n",
       "  <thead>\n",
       "    <tr style=\"text-align: right;\">\n",
       "      <th></th>\n",
       "      <th>Name</th>\n",
       "      <th>Str_name</th>\n",
       "      <th>Hsnr</th>\n",
       "      <th>Hsnr_zus</th>\n",
       "      <th>Plz</th>\n",
       "      <th>Ort</th>\n",
       "      <th>Rechtswert</th>\n",
       "      <th>Hochwert</th>\n",
       "      <th>Homepage</th>\n",
       "      <th>Geometry</th>\n",
       "    </tr>\n",
       "  </thead>\n",
       "  <tbody>\n",
       "    <tr>\n",
       "      <th>1</th>\n",
       "      <td>Amateurbühne Münster-Ost</td>\n",
       "      <td>Andreas-Hofer-Straße</td>\n",
       "      <td>13.0</td>\n",
       "      <td></td>\n",
       "      <td>48145.0</td>\n",
       "      <td>Münster</td>\n",
       "      <td>407399.0</td>\n",
       "      <td>5756985.0</td>\n",
       "      <td>https://amateurbuehne.de/</td>\n",
       "      <td>POINT (7.65242 51.95585)</td>\n",
       "    </tr>\n",
       "    <tr>\n",
       "      <th>12</th>\n",
       "      <td>Boulevard Münster</td>\n",
       "      <td>Königsstraße</td>\n",
       "      <td>12.0</td>\n",
       "      <td></td>\n",
       "      <td>48143.0</td>\n",
       "      <td>Münster</td>\n",
       "      <td>405612.0</td>\n",
       "      <td>5757413.0</td>\n",
       "      <td>https://www.boulevard-muenster.de/</td>\n",
       "      <td>POINT (7.62631 51.95939)</td>\n",
       "    </tr>\n",
       "    <tr>\n",
       "      <th>13</th>\n",
       "      <td>Charivari Puppentheater</td>\n",
       "      <td>Körnerstraße</td>\n",
       "      <td>3.0</td>\n",
       "      <td></td>\n",
       "      <td>48151.0</td>\n",
       "      <td>Münster</td>\n",
       "      <td>404931.0</td>\n",
       "      <td>5756907.0</td>\n",
       "      <td>http://charivari-theater.de/</td>\n",
       "      <td>POINT (7.61654 51.95473)</td>\n",
       "    </tr>\n",
       "    <tr>\n",
       "      <th>15</th>\n",
       "      <td>Der kleine Bühnenboden</td>\n",
       "      <td>Schillerstraße</td>\n",
       "      <td>48.0</td>\n",
       "      <td></td>\n",
       "      <td>48155.0</td>\n",
       "      <td>Münster</td>\n",
       "      <td>406623.0</td>\n",
       "      <td>5757011.0</td>\n",
       "      <td>http://www.derkleinebuehnenboden.de/</td>\n",
       "      <td>POINT (7.64112 51.95595)</td>\n",
       "    </tr>\n",
       "    <tr>\n",
       "      <th>2</th>\n",
       "      <td>GOP</td>\n",
       "      <td>Bahnhofstraße</td>\n",
       "      <td>20.0</td>\n",
       "      <td></td>\n",
       "      <td>48143.0</td>\n",
       "      <td>Münster</td>\n",
       "      <td>406140.0</td>\n",
       "      <td>5757178.0</td>\n",
       "      <td>https://www.variete.de/Muenster</td>\n",
       "      <td>POINT (7.63405 51.95737)</td>\n",
       "    </tr>\n",
       "  </tbody>\n",
       "</table>\n",
       "</div>"
      ],
      "text/plain": [
       "                        Name              Str_name  Hsnr Hsnr_zus      Plz  \\\n",
       "1   Amateurbühne Münster-Ost  Andreas-Hofer-Straße  13.0           48145.0   \n",
       "12         Boulevard Münster          Königsstraße  12.0           48143.0   \n",
       "13   Charivari Puppentheater          Körnerstraße   3.0           48151.0   \n",
       "15    Der kleine Bühnenboden        Schillerstraße  48.0           48155.0   \n",
       "2                        GOP         Bahnhofstraße  20.0           48143.0   \n",
       "\n",
       "        Ort  Rechtswert   Hochwert                              Homepage  \\\n",
       "1   Münster    407399.0  5756985.0             https://amateurbuehne.de/   \n",
       "12  Münster    405612.0  5757413.0    https://www.boulevard-muenster.de/   \n",
       "13  Münster    404931.0  5756907.0          http://charivari-theater.de/   \n",
       "15  Münster    406623.0  5757011.0  http://www.derkleinebuehnenboden.de/   \n",
       "2   Münster    406140.0  5757178.0       https://www.variete.de/Muenster   \n",
       "\n",
       "                    Geometry  \n",
       "1   POINT (7.65242 51.95585)  \n",
       "12  POINT (7.62631 51.95939)  \n",
       "13  POINT (7.61654 51.95473)  \n",
       "15  POINT (7.64112 51.95595)  \n",
       "2   POINT (7.63405 51.95737)  "
      ]
     },
     "execution_count": 12,
     "metadata": {},
     "output_type": "execute_result"
    }
   ],
   "source": [
    "gdftheater.sort_values(by='Name', inplace=True)\n",
    "gdftheater.head()"
   ]
  },
  {
   "cell_type": "code",
   "execution_count": 13,
   "id": "51f72ecf-47a9-4ce8-a000-3ddc48a7bbcb",
   "metadata": {},
   "outputs": [
    {
     "data": {
      "text/plain": [
       "Hsnr_zus\n",
       "     15\n",
       "a     1\n",
       "Name: count, dtype: int64"
      ]
     },
     "execution_count": 13,
     "metadata": {},
     "output_type": "execute_result"
    }
   ],
   "source": [
    "gdftheater['Hsnr_zus'].value_counts()"
   ]
  },
  {
   "cell_type": "code",
   "execution_count": 40,
   "id": "6dd8be08-f0c9-4692-a69b-a08d4bad8bc7",
   "metadata": {},
   "outputs": [],
   "source": [
    "gdftheater['Plz'] = gdftheater['Plz'].astype(float).astype(int).astype(str)"
   ]
  },
  {
   "cell_type": "code",
   "execution_count": 42,
   "id": "cd1a6bd4-287a-4f3f-81b1-6757c96086ef",
   "metadata": {},
   "outputs": [
    {
     "data": {
      "text/plain": [
       "Name            object\n",
       "Str_name        object\n",
       "Hsnr           float64\n",
       "Hsnr_zus        object\n",
       "Plz             object\n",
       "Ort             object\n",
       "Rechtswert     float64\n",
       "Hochwert       float64\n",
       "Homepage        object\n",
       "Geometry      geometry\n",
       "dtype: object"
      ]
     },
     "execution_count": 42,
     "metadata": {},
     "output_type": "execute_result"
    }
   ],
   "source": [
    "gdftheater.dtypes"
   ]
  },
  {
   "cell_type": "code",
   "execution_count": 44,
   "id": "84b8dce3-98b6-4309-a143-831c26148182",
   "metadata": {},
   "outputs": [
    {
     "name": "stdout",
     "output_type": "stream",
     "text": [
      "['48145' '48143' '48151' '48155' '48147' '48153' '48157' '48165']\n"
     ]
    }
   ],
   "source": [
    "print(gdftheater['Plz'].unique())"
   ]
  },
  {
   "cell_type": "code",
   "execution_count": 46,
   "id": "1b392651-8701-4f22-80a2-32d116e18823",
   "metadata": {},
   "outputs": [
    {
     "data": {
      "text/plain": [
       "<pandas.core.groupby.generic.DataFrameGroupBy object at 0x00000134D0B8F750>"
      ]
     },
     "execution_count": 46,
     "metadata": {},
     "output_type": "execute_result"
    }
   ],
   "source": [
    "#Grouping our Data. \n",
    "#Group by operation: Split data, apply function, combine results\n",
    "#1.Groupby Method\n",
    "gdftheater.groupby(['Plz'])"
   ]
  },
  {
   "cell_type": "code",
   "execution_count": 54,
   "id": "89e13905-7619-44dd-bb3f-18910d7e0080",
   "metadata": {},
   "outputs": [],
   "source": [
    "plzGrp = gdftheater.groupby(['Plz'])"
   ]
  },
  {
   "cell_type": "code",
   "execution_count": null,
   "id": "f71744c0-3261-4a47-b2a8-5e788bad03b1",
   "metadata": {},
   "outputs": [],
   "source": [
    "#plzGrp['Name'].loc['48145.0']"
   ]
  },
  {
   "cell_type": "code",
   "execution_count": 66,
   "id": "bf1018d2-be20-4253-b384-8572bb2e849d",
   "metadata": {},
   "outputs": [
    {
     "name": "stderr",
     "output_type": "stream",
     "text": [
      "C:\\Users\\Glen\\AppData\\Local\\Temp\\ipykernel_23256\\747584085.py:1: FutureWarning: When grouping with a length-1 list-like, you will need to pass a length-1 tuple to get_group in a future version of pandas. Pass `(name,)` instead of `name` to silence this warning.\n",
      "  plzGrp.get_group('48145')\n"
     ]
    },
    {
     "data": {
      "text/html": [
       "<div>\n",
       "<style scoped>\n",
       "    .dataframe tbody tr th:only-of-type {\n",
       "        vertical-align: middle;\n",
       "    }\n",
       "\n",
       "    .dataframe tbody tr th {\n",
       "        vertical-align: top;\n",
       "    }\n",
       "\n",
       "    .dataframe thead th {\n",
       "        text-align: right;\n",
       "    }\n",
       "</style>\n",
       "<table border=\"1\" class=\"dataframe\">\n",
       "  <thead>\n",
       "    <tr style=\"text-align: right;\">\n",
       "      <th></th>\n",
       "      <th>Name</th>\n",
       "      <th>Str_name</th>\n",
       "      <th>Hsnr</th>\n",
       "      <th>Hsnr_zus</th>\n",
       "      <th>Plz</th>\n",
       "      <th>Ort</th>\n",
       "      <th>Rechtswert</th>\n",
       "      <th>Hochwert</th>\n",
       "      <th>Homepage</th>\n",
       "      <th>Geometry</th>\n",
       "    </tr>\n",
       "  </thead>\n",
       "  <tbody>\n",
       "    <tr>\n",
       "      <th>1</th>\n",
       "      <td>Amateurbühne Münster-Ost</td>\n",
       "      <td>Andreas-Hofer-Straße</td>\n",
       "      <td>13.0</td>\n",
       "      <td></td>\n",
       "      <td>48145</td>\n",
       "      <td>Münster</td>\n",
       "      <td>407399.0</td>\n",
       "      <td>5756985.0</td>\n",
       "      <td>https://amateurbuehne.de/</td>\n",
       "      <td>POINT (7.65242 51.95585)</td>\n",
       "    </tr>\n",
       "    <tr>\n",
       "      <th>6</th>\n",
       "      <td>Kreativ-Haus, Theaterbühne</td>\n",
       "      <td>Diepenbrockstraße</td>\n",
       "      <td>28.0</td>\n",
       "      <td></td>\n",
       "      <td>48145</td>\n",
       "      <td>Münster</td>\n",
       "      <td>406666.0</td>\n",
       "      <td>5757329.0</td>\n",
       "      <td>https://kreativ-haus.de/</td>\n",
       "      <td>POINT (7.64166 51.95882)</td>\n",
       "    </tr>\n",
       "  </tbody>\n",
       "</table>\n",
       "</div>"
      ],
      "text/plain": [
       "                         Name              Str_name  Hsnr Hsnr_zus    Plz  \\\n",
       "1    Amateurbühne Münster-Ost  Andreas-Hofer-Straße  13.0           48145   \n",
       "6  Kreativ-Haus, Theaterbühne     Diepenbrockstraße  28.0           48145   \n",
       "\n",
       "       Ort  Rechtswert   Hochwert                   Homepage  \\\n",
       "1  Münster    407399.0  5756985.0  https://amateurbuehne.de/   \n",
       "6  Münster    406666.0  5757329.0   https://kreativ-haus.de/   \n",
       "\n",
       "                   Geometry  \n",
       "1  POINT (7.65242 51.95585)  \n",
       "6  POINT (7.64166 51.95882)  "
      ]
     },
     "execution_count": 66,
     "metadata": {},
     "output_type": "execute_result"
    }
   ],
   "source": [
    "plzGrp.get_group('48145')"
   ]
  },
  {
   "cell_type": "code",
   "execution_count": null,
   "id": "26b12df1-968e-48cc-bfa8-0a7def2e3ef5",
   "metadata": {},
   "outputs": [],
   "source": [
    "#gdftheater = gdftheater.set_index(\"name\")"
   ]
  },
  {
   "cell_type": "code",
   "execution_count": null,
   "id": "3f719680-4330-45e6-9c5b-9d9c6b66a412",
   "metadata": {},
   "outputs": [],
   "source": [
    "#gdftheater[\"boundary\"] = gdftheater.boundary\n",
    "#gdftheater[\"boundary\"]"
   ]
  },
  {
   "cell_type": "code",
   "execution_count": null,
   "id": "dd52219e-c3a2-4dc0-8f68-a5efe5097119",
   "metadata": {},
   "outputs": [],
   "source": [
    "gdftheater.explore()"
   ]
  },
  {
   "cell_type": "code",
   "execution_count": 72,
   "id": "15078ea1-926e-4723-a7e5-0fe8d3067bc2",
   "metadata": {},
   "outputs": [
    {
     "data": {
      "text/plain": [
       "1     POINT (7.65242 51.95585)\n",
       "12    POINT (7.62631 51.95939)\n",
       "13    POINT (7.61654 51.95473)\n",
       "15    POINT (7.64112 51.95595)\n",
       "2     POINT (7.63405 51.95737)\n",
       "6     POINT (7.64166 51.95882)\n",
       "11    POINT (7.62934 51.96477)\n",
       "9     POINT (7.61952 51.96894)\n",
       "7      POINT (7.6239 51.96248)\n",
       "4     POINT (7.63234 51.95659)\n",
       "10     POINT (7.62898 51.9649)\n",
       "14    POINT (7.62568 51.94137)\n",
       "8     POINT (7.63616 51.97331)\n",
       "0     POINT (7.65115 51.98841)\n",
       "3      POINT (7.65403 51.9046)\n",
       "5     POINT (7.64011 51.95115)\n",
       "Name: Geometry, dtype: geometry"
      ]
     },
     "execution_count": 72,
     "metadata": {},
     "output_type": "execute_result"
    }
   ],
   "source": [
    "gdftheater['Geometry']"
   ]
  },
  {
   "cell_type": "code",
   "execution_count": null,
   "id": "ddce5367-b1a5-4961-9328-354292e10f84",
   "metadata": {},
   "outputs": [],
   "source": []
  },
  {
   "cell_type": "code",
   "execution_count": null,
   "id": "a24a19c9-87d0-4bf2-be17-475b6ab0b02c",
   "metadata": {},
   "outputs": [],
   "source": []
  },
  {
   "cell_type": "code",
   "execution_count": null,
   "id": "35082f02-179c-4ab9-880e-46919c31272c",
   "metadata": {},
   "outputs": [],
   "source": []
  }
 ],
 "metadata": {
  "kernelspec": {
   "display_name": "Python [conda env:geo_env]",
   "language": "python",
   "name": "conda-env-geo_env-py"
  },
  "language_info": {
   "codemirror_mode": {
    "name": "ipython",
    "version": 3
   },
   "file_extension": ".py",
   "mimetype": "text/x-python",
   "name": "python",
   "nbconvert_exporter": "python",
   "pygments_lexer": "ipython3",
   "version": "3.13.5"
  }
 },
 "nbformat": 4,
 "nbformat_minor": 5
}
